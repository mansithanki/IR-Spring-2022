{
  "nbformat": 4,
  "nbformat_minor": 0,
  "metadata": {
    "colab": {
      "name": "CrossLanguageEmbeddings.ipynb",
      "provenance": [],
      "authorship_tag": "ABX9TyMdmcYFYk2nt0qjwLfpABBR",
      "include_colab_link": true
    },
    "kernelspec": {
      "name": "python3",
      "display_name": "Python 3"
    }
  },
  "cells": [
    {
      "cell_type": "markdown",
      "metadata": {
        "id": "view-in-github",
        "colab_type": "text"
      },
      "source": [
        "<a href=\"https://colab.research.google.com/github/dasmiq/cs6200-hw3/blob/main/embeddings.ipynb\" target=\"_parent\"><img src=\"https://colab.research.google.com/assets/colab-badge.svg\" alt=\"Open In Colab\"/></a>"
      ]
    },
    {
      "cell_type": "markdown",
      "metadata": {
        "id": "oDsn_Motja8Q"
      },
      "source": [
        "# Cross-Language Word Embeddings\n",
        "\n",
        "In class, we discussed how we can reduce the dimensionality of word representations from their original vector space to an embedding space on the order of a few hundred dimensions. Different modeling choices for word embeddings may be ultimately evaluated by the effectiveness of classification or retrieval models.\n",
        "\n",
        "In this assignment, however, we will consider another common method of evaluating word embeddings: by judging the usefulness of pairwise distances between words in the embedding space.\n",
        "\n",
        "Follow along with the examples in this notebook, and implement the sections of code flagged with **TODO**."
      ]
    },
    {
      "cell_type": "code",
      "metadata": {
        "id": "UKm5cPMQ2xHU"
      },
      "source": [
        "import gensim\n",
        "import numpy as np\n",
        "from gensim.test.utils import datapath, get_tmpfile\n",
        "from gensim.models import Word2Vec\n",
        "from gensim.models.word2vec import LineSentence"
      ],
      "execution_count": null,
      "outputs": []
    },
    {
      "cell_type": "markdown",
      "metadata": {
        "id": "sfKjYFDklB4c"
      },
      "source": [
        "We'll start by downloading a plain-text version of the plays of William Shakespeare."
      ]
    },
    {
      "cell_type": "code",
      "metadata": {
        "id": "Dw3bvl1yf5FB",
        "outputId": "452a6460-30be-4cd8-9555-56e9b614b54c",
        "colab": {
          "base_uri": "https://localhost:8080/"
        }
      },
      "source": [
        "!wget http://www.ccs.neu.edu/home/dasmith/courses/cs6200/shakespeare_plays.txt\n",
        "lines = [s.split() for s in open('shakespeare_plays.txt')]"
      ],
      "execution_count": null,
      "outputs": [
        {
          "output_type": "stream",
          "name": "stdout",
          "text": [
            "--2022-03-28 22:02:09--  http://www.ccs.neu.edu/home/dasmith/courses/cs6200/shakespeare_plays.txt\n",
            "Resolving www.ccs.neu.edu (www.ccs.neu.edu)... 52.70.229.197\n",
            "Connecting to www.ccs.neu.edu (www.ccs.neu.edu)|52.70.229.197|:80... connected.\n",
            "HTTP request sent, awaiting response... 301 Moved Permanently\n",
            "Location: https://www.ccs.neu.edu/home/dasmith/courses/cs6200/shakespeare_plays.txt [following]\n",
            "--2022-03-28 22:02:09--  https://www.ccs.neu.edu/home/dasmith/courses/cs6200/shakespeare_plays.txt\n",
            "Connecting to www.ccs.neu.edu (www.ccs.neu.edu)|52.70.229.197|:443... connected.\n",
            "HTTP request sent, awaiting response... 200 OK\n",
            "Length: 4746840 (4.5M) [text/plain]\n",
            "Saving to: ‘shakespeare_plays.txt.1’\n",
            "\n",
            "shakespeare_plays.t 100%[===================>]   4.53M  13.5MB/s    in 0.3s    \n",
            "\n",
            "2022-03-28 22:02:09 (13.5 MB/s) - ‘shakespeare_plays.txt.1’ saved [4746840/4746840]\n",
            "\n"
          ]
        }
      ]
    },
    {
      "cell_type": "markdown",
      "metadata": {
        "id": "5cZ52pEflKKM"
      },
      "source": [
        "Then, we'll estimate a simple word2vec model on the Shakespeare texts."
      ]
    },
    {
      "cell_type": "code",
      "metadata": {
        "id": "eXT5BNPs_zjM"
      },
      "source": [
        "model = Word2Vec(lines)"
      ],
      "execution_count": null,
      "outputs": []
    },
    {
      "cell_type": "markdown",
      "metadata": {
        "id": "Fzt3lG1-lw33"
      },
      "source": [
        "Even with such a small training set size, you can perform some standard analogy tasks."
      ]
    },
    {
      "cell_type": "code",
      "metadata": {
        "id": "i4ruAqhKC3-R",
        "outputId": "75ef9541-a492-4f5f-b23e-91770e43f4f3",
        "colab": {
          "base_uri": "https://localhost:8080/"
        }
      },
      "source": [
        "model.wv.most_similar(positive=['king','woman'], negative=['man'])"
      ],
      "execution_count": null,
      "outputs": [
        {
          "output_type": "execute_result",
          "data": {
            "text/plain": [
              "[('queen', 0.7961381077766418),\n",
              " ('york', 0.7622988224029541),\n",
              " ('prince', 0.7605488300323486),\n",
              " ('duke', 0.757411003112793),\n",
              " ('clarence', 0.7396842241287231),\n",
              " ('warwick', 0.7230049967765808),\n",
              " ('gloucester', 0.7107932567596436),\n",
              " ('son', 0.6982918381690979),\n",
              " ('suffolk', 0.6875234842300415),\n",
              " ('cardinal', 0.6836150884628296)]"
            ]
          },
          "metadata": {},
          "execution_count": 9
        }
      ]
    },
    {
      "cell_type": "markdown",
      "metadata": {
        "id": "AJL45y5emjA9"
      },
      "source": [
        "In other words, we want a vector close to `king` and `woman` but subtracting the dimensions that are important to `man`, i.e., `queen`. Other words are mostly noble titles important in Shakespeare's \"history\" plays.\n",
        "\n",
        "For the rest of this assignment, we will focus on finding words with similar embeddings, both within and across languages. For example, what words are similar to the name of the title character of *Othello*?"
      ]
    },
    {
      "cell_type": "code",
      "metadata": {
        "id": "1EZGroU0KPyj",
        "outputId": "f20a7541-e19e-4459-d491-9d791bb427c8",
        "colab": {
          "base_uri": "https://localhost:8080/"
        }
      },
      "source": [
        "model.wv.most_similar(positive=['othello'])\n",
        "#model.wv.most_similar(positive=['brutus'])"
      ],
      "execution_count": null,
      "outputs": [
        {
          "output_type": "execute_result",
          "data": {
            "text/plain": [
              "[('desdemona', 0.9601230025291443),\n",
              " ('iago', 0.939521849155426),\n",
              " ('emilia', 0.9222152233123779),\n",
              " ('imogen', 0.9171116948127747),\n",
              " ('cleopatra', 0.9126853942871094),\n",
              " ('lucio', 0.8951156139373779),\n",
              " ('rosalind', 0.8866069316864014),\n",
              " ('lear', 0.8862653970718384),\n",
              " ('ham', 0.8853533267974854),\n",
              " ('glou', 0.8836370706558228)]"
            ]
          },
          "metadata": {},
          "execution_count": 10
        }
      ]
    },
    {
      "cell_type": "markdown",
      "metadata": {
        "id": "UM2BT_7zZle3"
      },
      "source": [
        "If you know the play, you might see some familiar names.\n",
        "\n",
        "This search uses cosine similarity. In the default API, you should see the same similarity between the words `othello` and `desdemona` as in the search results above."
      ]
    },
    {
      "cell_type": "code",
      "metadata": {
        "id": "-e32-u4zYFda",
        "outputId": "a71eab7a-4b5d-48b7-fab9-033859d274c8",
        "colab": {
          "base_uri": "https://localhost:8080/"
        }
      },
      "source": [
        "model.wv.similarity('othello', 'desdemona')"
      ],
      "execution_count": null,
      "outputs": [
        {
          "output_type": "execute_result",
          "data": {
            "text/plain": [
              "0.960123"
            ]
          },
          "metadata": {},
          "execution_count": 11
        }
      ]
    },
    {
      "cell_type": "markdown",
      "metadata": {
        "id": "c49DwfAmZ6PU"
      },
      "source": [
        "**TODO**: Your **first task**, therefore, is to implement your own cosine similarity function so that you can reuse it outside of the context of the gensim model object."
      ]
    },
    {
      "cell_type": "code",
      "metadata": {
        "id": "rEj2PqpuZ5xs"
      },
      "source": [
        "## TODO: Implement cosim\n",
        "def cosim(v1, v2):\n",
        "  ## return cosine similarity between v1 and v2\n",
        "  return 0\n",
        "\n",
        "## This should give a result similar to model.wv.similarity:\n",
        "cosim(model.wv['othello'], model.wv['desdemona'])"
      ],
      "execution_count": null,
      "outputs": []
    },
    {
      "cell_type": "markdown",
      "metadata": {
        "id": "3TbDqBIHbHfB"
      },
      "source": [
        "## Evaluation\n",
        "\n",
        "We could collect a lot of human judgments about how similar pairs of words, or pairs of Shakespearean characters, are. Then we could compare different word-embedding models by their ability to replicate these human judgments.\n",
        "\n",
        "If we extend our ambition to multiple languages, however, we can use a word translation task to evaluate word embeddings.\n",
        "\n",
        "We will use a subset of [Facebook AI's FastText cross-language embeddings](https://fasttext.cc/docs/en/aligned-vectors.html) for several languages. Your task will be to compare English both to French, and to *one more language* from the following set: Arabic, German, Portuguese, Russian, Spanish, Vietnamese, and Chinese."
      ]
    },
    {
      "cell_type": "code",
      "metadata": {
        "id": "FC_FXRnfq1BO"
      },
      "source": [
        "!wget http://www.ccs.neu.edu/home/dasmith/courses/cs6200/30k.en.vec\n",
        "!wget http://www.ccs.neu.edu/home/dasmith/courses/cs6200/30k.fr.vec\n",
        "\n",
        "# TODO: uncomment at least one of these to work with another language\n",
        "# !wget http://www.ccs.neu.edu/home/dasmith/courses/cs6200/30k.ar.vec\n",
        "# !wget http://www.ccs.neu.edu/home/dasmith/courses/cs6200/30k.de.vec\n",
        "# !wget http://www.ccs.neu.edu/home/dasmith/courses/cs6200/30k.pt.vec\n",
        "# !wget http://www.ccs.neu.edu/home/dasmith/courses/cs6200/30k.ru.vec\n",
        "# !wget http://www.ccs.neu.edu/home/dasmith/courses/cs6200/30k.es.vec\n",
        "# !wget http://www.ccs.neu.edu/home/dasmith/courses/cs6200/30k.vi.vec\n",
        "# !wget http://www.ccs.neu.edu/home/dasmith/courses/cs6200/30k.zh.vec"
      ],
      "execution_count": null,
      "outputs": []
    },
    {
      "cell_type": "markdown",
      "metadata": {
        "id": "nmuIvGpNrJPe"
      },
      "source": [
        "We'll start by loading the word vectors from their textual file format to a dictionary mapping words to numpy arrays."
      ]
    },
    {
      "cell_type": "code",
      "metadata": {
        "id": "VbWORXkP2Vvn"
      },
      "source": [
        "def vecref(s):\n",
        "  (word, srec) = s.split(' ', 1)\n",
        "  return (word, np.fromstring(srec, sep=' '))\n",
        "\n",
        "def ftvectors(fname):\n",
        "  return { k:v for (k, v) in [vecref(s) for s in open(fname)] if len(v) > 1} \n",
        "\n",
        "envec = ftvectors('30k.en.vec')\n",
        "frvec = ftvectors('30k.fr.vec')\n",
        "\n",
        "# TODO: load vectors for one more language, such as zhvec (Chinese)\n",
        "# arvec = ftvectors('30k.ar.vec')\n",
        "# devec = ftvectors('30k.de.vec')\n",
        "# ptvec = ftvectors('30k.pt.vec')\n",
        "# ruvec = ftvectors('30k.ru.vec')\n",
        "# esvec = ftvectors('30k.es.vec')\n",
        "# vivec = ftvectors('30k.vi.vec')\n",
        "# zhvec = ftvectors('30k.zh.vec')"
      ],
      "execution_count": null,
      "outputs": []
    },
    {
      "cell_type": "markdown",
      "metadata": {
        "id": "j88E1JdueZHc"
      },
      "source": [
        "**TODO**: Your next task is to write a simple function that takes a vector and a dictionary of vectors and finds the most similar item in the dictionary. For this assignment, a linear scan through the dictionary using your `cosim` function from above is acceptible."
      ]
    },
    {
      "cell_type": "code",
      "metadata": {
        "id": "gmdirYOjoSWV",
        "colab": {
          "base_uri": "https://localhost:8080/",
          "height": 34
        },
        "outputId": "4e0da5b0-fbad-4195-9e4c-03b02ff775ec"
      },
      "source": [
        "## TODO: implement this search function\n",
        "def mostSimilar(vec, vecDict):\n",
        "  ## Use your cosim function from above\n",
        "  mostSimilar = ''\n",
        "  similarity = 0\n",
        "  return (mostSimilar, similarity)\n",
        "\n",
        "## some example searches\n",
        "[mostSimilar(envec[e], frvec) for e in ['computer', 'germany', 'matrix', 'physics', 'yeast']]"
      ],
      "execution_count": null,
      "outputs": [
        {
          "output_type": "execute_result",
          "data": {
            "text/plain": [
              "[('', 0), ('', 0), ('', 0), ('', 0), ('', 0)]"
            ]
          },
          "metadata": {
            "tags": []
          },
          "execution_count": 12
        }
      ]
    },
    {
      "cell_type": "markdown",
      "metadata": {
        "id": "NIKUD5qxpUMB"
      },
      "source": [
        "Some matches make more sense than others. Note that `computer` most closely matches `informatique`, the French term for *computer science*. If you looked further down the list, you would see `ordinateur`, the term for *computer*. This is one weakness of a focus only on embeddings for word *types* independent of context.\n",
        "\n",
        "To evalute cross-language embeddings more broadly, we'll look at a dataset of links between Wikipedia articles."
      ]
    },
    {
      "cell_type": "code",
      "metadata": {
        "id": "az10sIFwsEUP"
      },
      "source": [
        "!wget http://www.ccs.neu.edu/home/dasmith/courses/cs6200/links.tab\n",
        "links = [s.split() for s in open('links.tab')]"
      ],
      "execution_count": null,
      "outputs": []
    },
    {
      "cell_type": "markdown",
      "metadata": {
        "id": "sqHq0hFCv8NY"
      },
      "source": [
        "This `links` variable consists of triples of `(English term, language, term in that language)`. For example, here is the link between English `academy` and French `académie`:"
      ]
    },
    {
      "cell_type": "code",
      "metadata": {
        "id": "RQ7eusdxtdsq",
        "colab": {
          "base_uri": "https://localhost:8080/",
          "height": 34
        },
        "outputId": "e5f0bfbe-6e37-4480-9618-bd539ca27ffe"
      },
      "source": [
        "links[302]"
      ],
      "execution_count": null,
      "outputs": [
        {
          "output_type": "execute_result",
          "data": {
            "text/plain": [
              "['academy', 'fr', 'académie']"
            ]
          },
          "metadata": {
            "tags": []
          },
          "execution_count": 31
        }
      ]
    },
    {
      "cell_type": "markdown",
      "metadata": {
        "id": "bYEdOQbmwql3"
      },
      "source": [
        "**TODO**: Evaluate the English and French embeddings by computing the proportion of English Wikipedia articles whose corresponding French article is also the closest word in embedding space. Skip English articles not covered by the word embedding dictionary. Since many articles, e.g., about named entities have the same title in English and French, compute the baseline accuracy achieved by simply echoing the English title as if it were French. Remember to iterate only over English Wikipedia articles, not the entire embedding dictionary."
      ]
    },
    {
      "cell_type": "code",
      "metadata": {
        "id": "RJrTJ3ja91Z4"
      },
      "source": [
        "## TODO: Compute English-French Wikipedia retrieval accuracy.\n",
        "accuracy = 0\n",
        "baselineAccuracy = 0"
      ],
      "execution_count": null,
      "outputs": []
    },
    {
      "cell_type": "markdown",
      "metadata": {
        "id": "7hqd1buq-OEo"
      },
      "source": [
        "**TODO**: Compute accuracy and baseline (identity function) acccuracy for Englsih and another language besides French. Although the baseline will be lower for languages not written in the Roman alphabet (i.e., Arabic or Chinese), there are still many articles in those languages with headwords written in Roman characters."
      ]
    },
    {
      "cell_type": "code",
      "metadata": {
        "id": "ZjnKtHya-jmj"
      },
      "source": [
        "## TODO: Compute English-X Wikipedia retrieval accuracy.\n"
      ],
      "execution_count": null,
      "outputs": []
    },
    {
      "cell_type": "markdown",
      "metadata": {
        "id": "E6z01sufFPJh"
      },
      "source": [
        "**TODO**: Find the 10 nearest neighbors of each English term to compute \"recall at 10\" and \"mean reciprocal rank at 10\"."
      ]
    },
    {
      "cell_type": "code",
      "source": [
        "## TODO: Compute recall@10 and MRR@10 when retrieving 10 nearest neighbors in French and some other language."
      ],
      "metadata": {
        "id": "TgAORWTQl0Sl"
      },
      "execution_count": null,
      "outputs": []
    },
    {
      "cell_type": "markdown",
      "source": [
        "The list of Wikipedia headwords is short enough that a linear scan through the non-English language embeddings takes some time but is feasible. In a production system, you could index the word embeddings using SimHash or some other locality sensitive hashing scheme, as we discussed for duplicate detection, to speed up this process."
      ],
      "metadata": {
        "id": "GsXoZaVsYMXR"
      }
    }
  ]
}