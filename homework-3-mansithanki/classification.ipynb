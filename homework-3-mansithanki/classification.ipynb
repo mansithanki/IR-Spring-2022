{
  "nbformat": 4,
  "nbformat_minor": 0,
  "metadata": {
    "colab": {
      "name": "classification.ipynb",
      "provenance": [],
      "authorship_tag": "ABX9TyOqwZU8m8DAryU2ppQGZiLi",
      "include_colab_link": true
    },
    "kernelspec": {
      "name": "python3",
      "display_name": "Python 3"
    },
    "language_info": {
      "name": "python"
    }
  },
  "cells": [
    {
      "cell_type": "markdown",
      "metadata": {
        "id": "view-in-github",
        "colab_type": "text"
      },
      "source": [
        "<a href=\"https://colab.research.google.com/github/dasmiq/cs6200-hw3/blob/main/classification.ipynb\" target=\"_parent\"><img src=\"https://colab.research.google.com/assets/colab-badge.svg\" alt=\"Open In Colab\"/></a>"
      ]
    },
    {
      "cell_type": "markdown",
      "metadata": {
        "id": "9fniEAr7Kdsb"
      },
      "source": [
        "# Text Classification\n",
        "\n",
        "In class, we spent some time on text classification, including naive Bayes classifiers.  We focused on these models not only because they are simple to implement and fairly effective, but also because of their similarity to widely used bag-of-words retrieval models such as BM25 and query likelihood.\n",
        "\n",
        "Your task is to write a naive Bayes text categorization system to predict whether movie reviews are positive or negative.  The data for this **sentiment analysis** task were first assembled and published in Bo Pang and Lillian Lee, &ldquo;A Sentimental Education: Sentiment Analysis Using Subjectivity Summarization Based on Minimum Cuts&rdquo;, _Proceedings of the Association for Computational Linguistics_, 2004.\n",
        "\n",
        "## Loading the data\n",
        "\n",
        "First we load the training, development, and test splits of this dataset."
      ]
    },
    {
      "cell_type": "code",
      "metadata": {
        "id": "Qou7WSViJ7j2"
      },
      "source": [
        "import json\n",
        "from urllib.request import urlopen\n",
        "import numpy as np\n",
        "import matplotlib.pyplot as plt"
      ],
      "execution_count": 1,
      "outputs": []
    },
    {
      "cell_type": "code",
      "metadata": {
        "id": "i5b269H_ImDz"
      },
      "source": [
        "# Read one JSON record per line\n",
        "def read_jsonl(f):\n",
        "  res = []\n",
        "  for line in f:\n",
        "    res.append(json.loads(line))\n",
        "  return res"
      ],
      "execution_count": null,
      "outputs": []
    },
    {
      "cell_type": "markdown",
      "metadata": {
        "id": "ly9sQzxqKNsr"
      },
      "source": [
        "If you're working offline, you could modify this code to read from the copies of the data in the repository."
      ]
    },
    {
      "cell_type": "code",
      "metadata": {
        "id": "c3DDh5ytJrTR"
      },
      "source": [
        "train = read_jsonl(urlopen(\"https://github.com/dasmiq/cs6200-hw3/blob/main/train.json?raw=true\"))\n",
        "dev = read_jsonl(urlopen(\"https://github.com/dasmiq/cs6200-hw3/blob/main/dev.json?raw=true\"))\n",
        "test = read_jsonl(urlopen(\"https://github.com/dasmiq/cs6200-hw3/blob/main/test.json?raw=true\"))"
      ],
      "execution_count": null,
      "outputs": []
    },
    {
      "cell_type": "markdown",
      "metadata": {
        "id": "mbvCSANLNSAt"
      },
      "source": [
        "Each of these subsets of the data is a list of documents, and each document has a unique identifier (`id`) and text (`text`). The training and development documents, in addition, have been labeled with a `class`."
      ]
    },
    {
      "cell_type": "code",
      "metadata": {
        "colab": {
          "base_uri": "https://localhost:8080/"
        },
        "id": "tV_4DmkNKaz5",
        "outputId": "f0ef5172-e305-42d6-8454-6efee67657f6"
      },
      "source": [
        "print(train[0])\n",
        "print(dev[0])\n",
        "print(test[0])"
      ],
      "execution_count": null,
      "outputs": [
        {
          "output_type": "stream",
          "name": "stdout",
          "text": [
            "{'id': '12178', 'class': 'neg', 'text': \"the sequel to the fugitive ( 1993 ) , u . s marshals is an average thriller using it's association with the fugitive just so it can make a few extra bucks . \\ntommy lee jones returns to his role as chief deputy samuel gerard , the grizzly cop who was after harrison ford in the fugitive . \\nthis time , he's after fugitive mark sheridan ( snipes ) who the police think killed two fbi agents , but of course he's been set up , and when the police plane escort he ( and gerard ) are riding crashes , he makes a run for it , gerard not so hot on his tail . \\nwhat follows is about 2 hours of action , brought to us by the director of executive decision ( 1995 ) , another film curiously involving a plane . \\nwhen comparing this movie to the fugitive , the prequel is far superior . \\nbut even on it's own , u . s marshals is a pretty lousy movie . \\nwhile the original was reasonably intelligent , and had a fugitive to root for , the audience feels strangely distanced from snipes fugitive , mainly because we know so little about him until way into the film's overlong running time . \\nwhile the fugitive gave a little time to develop harrison fords character , u . s marshals is straight in there , pulling it's trump card ( the place crash ) almost immediately . \\nto be honest , i couldn't care less if snipe's character got captured or not . \\nsnipes performance is average , and his character gets surprisingly little screen time ( considering he is the fugitive ) for reasons i'll explain later . \\ntommy lee jones is as fine as ever , although his role is hardly a challenge . \\nthe sense of deja vu was overwhelming . \\ni know it's the same role from the fugitive , but there is seemingly no attempt to develop his character from the last film . \\nthere's a few 'nudge nudge' references from the first film , but apart from that , nothing . \\nnobody even mentions harrison ford in this movie . \\ndowney jnr is ok as fbi agent john royce who's roped into the chase , and sexy french actress irene jacob wanders in and out of the movie as snipes wife . \\nnobody looks as if their having a good time , and all the performers are on autopilot . \\nthe supporting cast are o . k , but when it comes to performances , u . s marshals falls flat on it's face . \\nit doesn't fare any better plot-wise , either . \\nthe film starts off with gerard trying to capture snipes , but then veers off into terrorists territory . \\nas said above , the film is an normal , average terrorist thriller , seen a million times before , but is using the fugitive reputation to make it sound more professional . \\nif this film wasn't the 'sequel' to the fugitive , this would probably go straight to video , or not even been made at all , because it's so average . \\nand because of the film's plot changing it's course , snipes is almost forgotten apart , and hardly features in the movie . \\nstuart baird , the director , is all right , but there's no particular scene that stands out . \\nit's director is the usual action movie style . \\neven the plane crash is sorely lacking in tension . \\nthe special effects are nice , especially the plane crash , and there's a good ( if very loud ) soundtrack by veteran composer jerry goldsmith . \\nbut in the end , u . s marshals suffers from an overwhelmingly lack of excitement . \\nsure , it's loud and dumb , but in the end u . s marshals just ain't fun . \\nbored performers and a lackluster plot and script , do not make a good action movie . \\noverall rating= review by david wilcock web space provided by geocities \\n\"}\n",
            "{'id': '20531', 'class': 'neg', 'text': 'under any other circumstances , i would not be discussing the ending of a film to the extent that i will in this particular review . \\nhowever , in order to fully explain exactly how and why this movie is so awful , a minute dissection of the ending is necessary . \\neven though i will not reveal the details of the last scenes , do proceed at your own risk . \\nthe movie opens ( quite poorly , i might add ) as child psychologist malcolm crowe ( bruce willis , looking like he was dragged out of his trailer at the wee hours of the morning to shoot each scene ) and his wife are intruded upon by one of malcolm\\'s past patients . \\ndistraught , the suicidal man ( a cameo by new kid on the block donnie wahlberg ) shoots malcolm and then turns the gun on himself . \\ncut to the \" next fall \" , as we find the good doctor quietly observing his latest case , a trouble young man named cole ( haley joel osment , one of the only child actors in a while i didn\\'t want to bludgeoned over the head with a blunt instrument ) . \\nafter about 45 minutes of seemingly unrelated freak occurrences , we learn that cole has \" the sixth sense \" , the gift of being able to communicate with the dead . \\nand this , as they say , is where the healing begins . \\nthe sixth sense and its unexpected popularity is founded upon a twist ending that i knew going into the film ( one of roger ebert\\'s colleges was kind enough to give it away on a recent segment of \" siskel and ebert \" ) . \\nalthough i was at first enraged that an established film critic could so callously ruin a film for thousands of patrons , i soon realized that this turn of events could in fact have been a blessing in disguise ; i\\'ve always been a sucker for surprise endings ( my favorite movie is the usual suspects ) and rarely dislike a film that sports one . \\nhere , since i knew the major plot twist that was coming at the film\\'s conclusion , the possibly of being bamboozled into loving a bad movie solely because of its ending ( something i\\'ve fallen victim to in the past ) was eliminated . \\nand indeed , my viewing of the sixth sense did prove to be quite an enlightening experiment . \\nstripped of the element of surprise , the film was put to the task of showing what it really had , instead of simply hiding behind a shocking conclusion . \\nafter seeing its true colors , i came to the conclusion that the sixth sense is , despite what the many champions of the movie may say , void of any real power . \\nit\\'s a neat concept , but not one that justifies being made into a feature-length movie . \\nin fact , the sixth sense relies so strongly on its finale that the rest of the film develops as a sort of prelude to the supposedly earth-shattering revelation that is yet to come . \\nand when the final moments do come , it\\'s a huge letdown ; the end makes no sense at all . \\nit stupefied me with the heights of its ineptitude and is completely idiotic on a fundamental and very rare level . \\ni won\\'t go into any details , but suffice to say that , as far as i can tell , it negates to rest of the movie to such an extent that anyone who buys it even for a second must be suffering from a very acute case of attention deficit disorder . \\nnow , in all fairness , i cannot say for sure that i would have guessed the ending ( however stupid it may be ) had it not been revealed to me before hand . \\nhowever , i feel very confident that i , as well as anyone who had seen a few \" twilight zone \" episodes , would have seen it coming a mile away . \\nthe fact that movie-goers nation wide are surprised by the ending still has me stumped . \\nironically , to fully appreciate the best scene ( that of cole and malcolm attending a little girl\\'s funeral ) , the viewer is required to be aware of a very rare psychological disorder called munchausen syndrome by proxy . \\ni wouldn\\'t have even known about this mental disease if i hadn\\'t , by pure dumb luck , caught \" dateline nbc \" the other week when they did a feature story on it . \\ndespite being blessed with some really amazing cinematography and a brauva performance from osment ( where was this kid when casting calls were going out for the phantom menace ? ) , in the end , the sixth sense is too chalk-full of contradictions and just isn\\'t plausible enough to warrant even a slight recommendation . \\n'}\n",
            "{'id': '11471', 'text': 'the lives of older people in the twilight of their years attempting to come to grips with their shared histories and possible futures is a fascinating topic . \\nfinding an all-star cast for such a film is a stroke of genius . \\ncombining all that with a three-time oscar-winning director ( robert benton of \" kramer vs . \\nkramer \" ) and creating a decidedly mediocre movie is the stuff of disappointment . \\nin yet another noir mystery set in hollywood -- how many of these have we seen during the past few years ? \\n-- the atmosphere is moody , the actors enjoyable to watch and the story goes nowhere . \\nover-70 harry ross ( paul newman ) is a washed up cop-turned-private eye-turned man friday trying to figure out how to live what remains of his life . \\nhe\\'s screwed up things pretty well ( \" i had a wife and daughter . \\nnow , i\\'m a drunk ) and is at a crossroads . \\na couple of years ago , he traveled to mexico to bring back mel ( reese witherspoon ) , the under-age daughter of jack ( gene hackman ) and catherine ( susan sarandon ) ames and now lives with them . \\nthe ames are former movie stars , past their prime and the three have become fast friends . \\none gets the impression that ross is just hanging out waiting for something to wake him up . \\nto fill his time , he does odd jobs for jack and falls in love with catherine . \\njack is in even worse shape than harry . \\nhe\\'s dying of cancer with only a year to live . \\nthings do turn more exciting when jack asks harry to drop off a sealed manila envelope for him . \\ninstead of the routine errand that ross expects , he walks into a barrage of bullets from the gun of another ex-cop who is , himself , full of bloody holes . \\nthis unsettling event gives the former detective a project to throw himself into and launches an investigation that revolves around the mysterious disappearance of catherine\\'s first husband 20 years before . \\nthrough a series of very complex and convoluted plot devices that involve murder ; blackmail ; guns ; mel\\'s mexico traveling partner and his parole officer ; ross\\'s former cop buddies , ex-lover and would-be sidekick , the tale finally ends up exactly where everyone expects it to . \\nit\\'s a film noir tradition that the story twists and turns down side roads for an unexpected finale , but here the journey meanders towards an ending that no one cares about . \\nthe only surprises are exactly whose face fits which role in the scenario . \\nby the time they show you , it doesn\\'t matter . \\nthe storyline gets goofier and goofier exemplified in ross\\'s relationship with rubin ( giancarlo esposito ) , a partner wannabe . \\nthese scenes are obviously designed to be comic relief , however they are neither . \\nrubin and ross have some past relationship but either it\\'s not explained or i didn\\'t care enough at that point to remember . \\na running joke about where harry was supposedly shot while in mexico is probably meant to mirror his questions about whether he is still able to perform . \\nit\\'s also not funny , doesn\\'t connect and keeps on showing up long after it has run its course . \\non the positive side , it\\'s often enjoyable to watch the seasoned actors on the screen . \\nthe three leads all have well-deserved academy awards and turn in accomplished , if not extraordinary jobs . \\nnewman is a grand actor , but doesn\\'t seem quite suited to the dark film style . \\nhe is a bit too clean and understated to come across as desperate and down and out . \\nhackman , also low-key , is believable but lacks sparkle . \\nsarandon comes across well as an sultry older babe although she is one-dimensional . \\nthe actors do what they can with lame dialog , but they can\\'t pull the film out of the hole it\\'s dug for itself . \\njames garner who plays ross\\'s old buddy ex-cop raymond hope is always a treat , but even he half-heartedly struggles through lines like \" i\\'m glad they didn\\'t shoot your pecker off . \" \\nthe best part of the film is the look at old friends , how their relationships change over the years and the difficult choices they must make . \\nthe genuinely easy and casual interactions among the actors hint that being on the set was much more interesting than what ended up on the screen \\nthe film doesn\\'t run very long before the audience realizes that it\\'s hopeless . \\nthe only reason for watching is the actors . \\nit reminds me of disaster movies such as \" towering inferno \" where the star power is supposed to make everyone ignore the film\\'s problems . \\nin a better world , there would have been second-rate actors in this second-rate movie and the ones here would have been saved for something better . \\nof course , we don\\'t live in that better world , but you could make yours a little nicer by choosing a different movie . \\n'}\n"
          ]
        }
      ]
    },
    {
      "cell_type": "markdown",
      "metadata": {
        "id": "rz6U09YLOPZa"
      },
      "source": [
        "## Collecting term statistics\n",
        "\n",
        "The text has been pre-tokenized and lower-cased.  All you have to do to get the individual terms in a review is to split the tokens by whitespace, a sequence of spaces and/or newlines."
      ]
    },
    {
      "cell_type": "code",
      "metadata": {
        "id": "FyBgOVvzO7pr"
      },
      "source": [
        "## TODO: Write a function to convert a document into a collection of terms and their counts.\n",
        "## Convert the lists of documents in the training, development, and test sets into these collections of terms and counts."
      ],
      "execution_count": null,
      "outputs": []
    },
    {
      "cell_type": "markdown",
      "metadata": {
        "id": "Lab8VS4lVf_m"
      },
      "source": [
        "The statistics for individual documents will be useful in predicting the class of those documents, e.g., in the test set.\n",
        "\n",
        "Now, you will collect the statistics used to estimate the parameters of a naive Bayes model."
      ]
    },
    {
      "cell_type": "code",
      "metadata": {
        "id": "u9H67SPHV2sw"
      },
      "source": [
        "## TODO: Write a function to take a list of document statistics and produce a dictionary of term counts in each class.\n",
        "## Your output will look something like this:\n",
        "\n",
        "fakeData = {'pos': {'the': 10000, 'and': 800},\n",
        "            'neg': {'the': 1001, 'and': 799}}"
      ],
      "execution_count": null,
      "outputs": []
    },
    {
      "cell_type": "markdown",
      "metadata": {
        "id": "YTQgq1wcWuC5"
      },
      "source": [
        "## Estimating naive Bayes parameters\n",
        "\n",
        "As we discussed in class, you could use simple maximum-likelihood estimation for naive Bayes parameters, i.e., computing the relative frequency of a term given a class. The problem is that the relative frequency of words not seen in the training data will be zero, e.g., $p(\\texttt{aardvark} | \\texttt{pos}) = \\frac{0}{\\textrm{tokens in the positive training data}}$.\n",
        "\n",
        "To avoid this problem, estimate the parameters with **add-1 (Laplace) smoothing**. In other words, add an additional count of 1 to each word type. Then, to make the probability distribution sum to 1, add a count of 1 for each vocabulary word to the denominator. For our `aardvark` example, we would now have, for vocabulary $V$, $p(\\texttt{aardvark} | \\texttt{pos}) = \\frac{0 + 1}{N_{\\texttt{pos}} + 1 \\cdot |V|}$\n"
      ]
    },
    {
      "cell_type": "code",
      "metadata": {
        "id": "_Iw7JL9SWlOk"
      },
      "source": [
        "## TODO: Write a function to compute the add-1 smoothed parameters for a naive Bayes model given the term statistics you computed above.\n",
        "## Collect these parameters for the training set."
      ],
      "execution_count": null,
      "outputs": []
    },
    {
      "cell_type": "markdown",
      "metadata": {
        "id": "zdpWyzIPZdgD"
      },
      "source": [
        "What terms are likely to be important for prediction?"
      ]
    },
    {
      "cell_type": "code",
      "metadata": {
        "id": "xSzF8M-kY-VZ"
      },
      "source": [
        "## TODO: Print a list of the 25 terms with the highest log ratio of positive to negative weight."
      ],
      "execution_count": null,
      "outputs": []
    },
    {
      "cell_type": "code",
      "metadata": {
        "id": "wkX55joVZJGJ"
      },
      "source": [
        "## TODO: Print a list of the 25 terms with the highest log ration of negative to positive weight."
      ],
      "execution_count": null,
      "outputs": []
    },
    {
      "cell_type": "markdown",
      "metadata": {
        "id": "wbx_izd7ZUuo"
      },
      "source": [
        "Now, given the parameters you've estimated, you can make predictions about new documents."
      ]
    },
    {
      "cell_type": "code",
      "metadata": {
        "id": "NSh2STb4UjDm"
      },
      "source": [
        "## TODO: Compute the predictions of your model for each document in the development data.\n",
        "devPredictions = []"
      ],
      "execution_count": null,
      "outputs": []
    },
    {
      "cell_type": "code",
      "source": [
        "## TODO: Write a function to compute the accuracy of predictions given correct classes.\n",
        "\n",
        "devClasses = [x['class'] for x in dev]\n",
        "\n",
        "def accuracy(predictions, devClasses):\n",
        "  return 0\n",
        "\n",
        "accuracy(devPredictions, devClasses)"
      ],
      "metadata": {
        "id": "UA2sdupHQ9Ee"
      },
      "execution_count": null,
      "outputs": []
    },
    {
      "cell_type": "code",
      "metadata": {
        "id": "KgX4mD0uUvFR"
      },
      "source": [
        "## TODO: Compute the predictions of this model on each document in the test set."
      ],
      "execution_count": null,
      "outputs": []
    },
    {
      "cell_type": "markdown",
      "metadata": {
        "id": "91ExTuNkZiP7"
      },
      "source": [
        "## Comparing models with hypothesis testing (CS6200 only)\n",
        "\n",
        "Now that you've built a straightforward naive Bayes model, you can try to improve it. You could try stemming words, or including bigrams or trigrams, or adjusting the hyperparameter for Laplace smoothing, or trying a different smoothing method. What you try is up to you."
      ]
    },
    {
      "cell_type": "code",
      "source": [
        "## TODO: Try different features and/or smoothing.\n",
        "## Compute the predictions and the acuracy of your new model on development data."
      ],
      "metadata": {
        "id": "Oe6Q118oNKHt"
      },
      "execution_count": null,
      "outputs": []
    },
    {
      "cell_type": "markdown",
      "source": [
        "Perhaps your new model will be better than your original naive Bayes model above; perhaps it will be worse. (That won't affect your grade.) Your next step is to implement a permutation test to compare the two models. Refer to the material on the bootstrap and permutation tests at the end of the evaluation lecture."
      ],
      "metadata": {
        "id": "Si9C0EmmNYiO"
      }
    },
    {
      "cell_type": "code",
      "source": [
        "## TODO: Compute the difference in accuracy between your first naive Bayes model and your new one.\n",
        "\n",
        "difference = 0"
      ],
      "metadata": {
        "id": "w3HF-Xu-PDAh"
      },
      "execution_count": 3,
      "outputs": []
    },
    {
      "cell_type": "code",
      "source": [
        "## TODO: Write a function that, given two vectors of predictions that have\n",
        "## the same length, swaps each pair of predictions with probability 0.5.\n",
        "\n",
        "## Modify this dummy function that just echoes its inputs.\n",
        "def permute(y1, y2):\n",
        "  return (y1, y2)"
      ],
      "metadata": {
        "id": "0MFDrMHJTSDZ"
      },
      "execution_count": null,
      "outputs": []
    },
    {
      "cell_type": "code",
      "source": [
        "## TODO: If you run this permute function 500 times on the predictions of your two models,\n",
        "## it should produce 500 different pairs of vectors.\n",
        "## Compute the difference in accuracy for each of these 500 pairs, i.e., a vector of 500 differences.\n",
        "permutationDifferences = []"
      ],
      "metadata": {
        "id": "5p77hnCJT3qN"
      },
      "execution_count": 4,
      "outputs": []
    },
    {
      "cell_type": "code",
      "source": [
        "## TODO: Compute the proportion of these differences that are greater than the actual accuracy difference between your two models.\n",
        "## This proportion is the p-value computed by this permutation test."
      ],
      "metadata": {
        "id": "ZDtkBDEoUn2q"
      },
      "execution_count": null,
      "outputs": []
    },
    {
      "cell_type": "code",
      "source": [
        "## This code should plot a histogram of the differences between the permuted vectors\n",
        "## and the location of the observed accuracy difference.\n",
        "plt.hist(permutationDifferences, 20, label='Replicates', edgecolor='black')\n",
        "ylim = plt.ylim()\n",
        "plt.plot(2 * [difference], ylim, '--g', linewidth=3, label='Observed difference')\n",
        "plt.ylim(ylim)\n",
        "plt.legend()\n",
        "plt.xlabel('Difference in accuracy')\n",
        "plt.show()"
      ],
      "metadata": {
        "id": "oBL94mc4Ve0P"
      },
      "execution_count": null,
      "outputs": []
    }
  ]
}